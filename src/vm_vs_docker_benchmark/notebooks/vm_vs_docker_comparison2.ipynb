{
 "cells": [
  {
   "cell_type": "code",
   "execution_count": null,
   "id": "4f6b6423",
   "metadata": {},
   "outputs": [],
   "source": [
    "import pandas as pd\n",
    "import matplotlib.pyplot as plt\n",
    "import seaborn as sns\n",
    "import os\n",
    "\n",
    "# Configurar estilo\n",
    "sns.set(style=\"whitegrid\")\n",
    "plt.rcParams['figure.figsize'] = (10, 5)\n",
    "\n",
    "# Rutas de archivos\n",
    "results_path = os.path.abspath(os.path.join(\"..\", \"results\"))\n",
    "csv_path = os.path.join(results_path, \"vm_scenarios_results.csv\")\n",
    "\n",
    "# Cargar datos\n",
    "df_vm = pd.read_csv(csv_path)\n",
    "df_vm['timestamp'] = pd.to_datetime(df_vm['timestamp'], format=\"%Y%m%d_%H%M%S\")\n",
    "\n",
    "# Mostrar últimos resultados\n",
    "display(df_vm.tail())"
   ]
  },
  {
   "cell_type": "code",
   "execution_count": null,
   "id": "897bf460",
   "metadata": {},
   "outputs": [],
   "source": [
    "plt.figure()\n",
    "sns.barplot(data=df_vm, x=\"test_type\", y=\"cpu_percent\", errorbar='sd', capsize=0.1)\n",
    "plt.title(\"Uso promedio de CPU por tipo de prueba (con desviación estándar)\")\n",
    "plt.ylabel(\"CPU (%)\")\n",
    "plt.xticks(rotation=45)\n",
    "plt.tight_layout()\n",
    "plt.show()"
   ]
  },
  {
   "cell_type": "code",
   "execution_count": null,
   "id": "89a3ff4f",
   "metadata": {},
   "outputs": [],
   "source": [
    "plt.figure()\n",
    "sns.barplot(data=df_vm, x=\"test_type\", y=\"memory_percent\", errorbar='sd', capsize=0.1)\n",
    "plt.title(\"Uso promedio de Memoria por tipo de prueba (con desviación estándar)\")\n",
    "plt.ylabel(\"Memoria (%)\")\n",
    "plt.xticks(rotation=45)\n",
    "plt.tight_layout()\n",
    "plt.show()"
   ]
  },
  {
   "cell_type": "code",
   "execution_count": null,
   "id": "b046d1a3",
   "metadata": {},
   "outputs": [],
   "source": [
    "plt.figure()\n",
    "sns.barplot(data=df_vm, x=\"test_type\", y=\"execution_time_sec\", errorbar='sd', capsize=0.1)\n",
    "plt.title(\"Tiempo promedio de ejecución por prueba (con desviación estándar)\")\n",
    "plt.ylabel(\"Tiempo (segundos)\")\n",
    "plt.xticks(rotation=45)\n",
    "plt.tight_layout()\n",
    "plt.show()"
   ]
  },
  {
   "cell_type": "code",
   "execution_count": null,
   "id": "5a46adee",
   "metadata": {},
   "outputs": [],
   "source": [
    "grouped = df_vm.groupby(\"test_type\").agg({\n",
    "    \"cpu_percent\": ['mean', 'std'],\n",
    "    \"memory_percent\": ['mean', 'std'],\n",
    "    \"execution_time_sec\": ['mean', 'std']\n",
    "}).round(2)\n",
    "\n",
    "# Renombrar columnas para legibilidad\n",
    "grouped.columns = ['CPU_mean', 'CPU_std', 'Mem_mean', 'Mem_std', 'Time_mean', 'Time_std']\n",
    "display(grouped.sort_values(\"CPU_mean\", ascending=False))"
   ]
  }
 ],
 "metadata": {
  "kernelspec": {
   "display_name": "Python 3",
   "language": "python",
   "name": "python3"
  },
  "language_info": {
   "codemirror_mode": {
    "name": "ipython",
    "version": 3
   },
   "file_extension": ".py",
   "mimetype": "text/x-python",
   "name": "python",
   "nbconvert_exporter": "python",
   "pygments_lexer": "ipython3",
   "version": "3.11.9"
  }
 },
 "nbformat": 4,
 "nbformat_minor": 5
}
